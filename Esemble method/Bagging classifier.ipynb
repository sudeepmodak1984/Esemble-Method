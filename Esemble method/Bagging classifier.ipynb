{
 "cells": [
  {
   "cell_type": "code",
   "execution_count": 2,
   "id": "e3409b3c",
   "metadata": {},
   "outputs": [],
   "source": [
    "from sklearn.datasets import make_classification\n",
    "from sklearn.metrics import accuracy_score\n",
    "from sklearn.ensemble import BaggingClassifier\n",
    "from sklearn.tree import DecisionTreeClassifier\n",
    "from sklearn.svm import SVC\n",
    "\n",
    "from sklearn.model_selection import train_test_split"
   ]
  },
  {
   "cell_type": "code",
   "execution_count": 10,
   "id": "abe70f50",
   "metadata": {},
   "outputs": [],
   "source": [
    "X,y = make_classification(n_samples=10000, n_features=10,n_informative=3)"
   ]
  },
  {
   "cell_type": "code",
   "execution_count": 12,
   "id": "deb862c8",
   "metadata": {},
   "outputs": [
    {
     "data": {
      "text/plain": [
       "array([[-0.13632931, -1.11984779, -1.32921283, ..., -0.34135509,\n",
       "         0.22686666,  0.34120334],\n",
       "       [ 0.80882663,  0.24515986, -0.26107378, ..., -0.01964765,\n",
       "        -1.74254124,  0.5472156 ],\n",
       "       [ 0.49762249, -1.08912592,  1.30501737, ..., -0.56698907,\n",
       "        -0.33048243,  1.22192614],\n",
       "       ...,\n",
       "       [ 1.45164249,  0.48777916,  0.82408332, ..., -0.60011389,\n",
       "        -0.821151  ,  0.88168252],\n",
       "       [-1.22571025,  0.63882085,  1.84273179, ..., -0.64333226,\n",
       "        -2.75698048,  2.55413603],\n",
       "       [-0.56300798,  1.59181227,  1.8170343 , ..., -1.11987059,\n",
       "        -1.58924018,  0.72433876]])"
      ]
     },
     "execution_count": 12,
     "metadata": {},
     "output_type": "execute_result"
    }
   ],
   "source": [
    "X"
   ]
  },
  {
   "cell_type": "code",
   "execution_count": 13,
   "id": "0df961f6",
   "metadata": {},
   "outputs": [],
   "source": [
    " X_train, X_test, y_train, y_test = train_test_split(X, y, test_size=0.2, random_state=42)"
   ]
  },
  {
   "cell_type": "code",
   "execution_count": 14,
   "id": "7c689d3e",
   "metadata": {},
   "outputs": [],
   "source": [
    "dt=DecisionTreeClassifier(random_state=42)"
   ]
  },
  {
   "cell_type": "code",
   "execution_count": 15,
   "id": "94089744",
   "metadata": {},
   "outputs": [
    {
     "data": {
      "text/plain": [
       "DecisionTreeClassifier(random_state=42)"
      ]
     },
     "execution_count": 15,
     "metadata": {},
     "output_type": "execute_result"
    }
   ],
   "source": [
    "dt.fit(X_train,y_train)"
   ]
  },
  {
   "cell_type": "code",
   "execution_count": 16,
   "id": "5a15c1ae",
   "metadata": {},
   "outputs": [],
   "source": [
    "y_pred=dt.predict(X_test)"
   ]
  },
  {
   "cell_type": "code",
   "execution_count": 17,
   "id": "bb35be59",
   "metadata": {},
   "outputs": [
    {
     "name": "stdout",
     "output_type": "stream",
     "text": [
      "Decision Tree accurracy 0.85\n"
     ]
    }
   ],
   "source": [
    "print(\"Decision Tree accurracy\",accuracy_score(y_pred,y_test))"
   ]
  },
  {
   "cell_type": "markdown",
   "id": "8f1fda44",
   "metadata": {},
   "source": [
    "# Bagging Technique"
   ]
  },
  {
   "cell_type": "code",
   "execution_count": 32,
   "id": "209881e4",
   "metadata": {},
   "outputs": [],
   "source": [
    "bag=BaggingClassifier(\n",
    "    base_estimator=DecisionTreeClassifier(),\n",
    "    n_estimators=500,\n",
    "    max_samples=0.5,\n",
    "    bootstrap=True,\n",
    "    random_state=42\n",
    ")"
   ]
  },
  {
   "cell_type": "code",
   "execution_count": 33,
   "id": "c2788474",
   "metadata": {},
   "outputs": [
    {
     "data": {
      "text/plain": [
       "BaggingClassifier(base_estimator=DecisionTreeClassifier(), max_samples=0.5,\n",
       "                  n_estimators=500, random_state=42)"
      ]
     },
     "execution_count": 33,
     "metadata": {},
     "output_type": "execute_result"
    }
   ],
   "source": [
    "bag.fit(X_train,y_train)"
   ]
  },
  {
   "cell_type": "code",
   "execution_count": 34,
   "id": "84235f98",
   "metadata": {},
   "outputs": [],
   "source": [
    "y_pred1=bag.predict(X_test)"
   ]
  },
  {
   "cell_type": "code",
   "execution_count": 35,
   "id": "65b0edfe",
   "metadata": {},
   "outputs": [
    {
     "name": "stdout",
     "output_type": "stream",
     "text": [
      "Bagging accurracy 0.8965\n"
     ]
    }
   ],
   "source": [
    "print(\"Bagging accurracy\",accuracy_score(y_pred1,y_test))"
   ]
  },
  {
   "cell_type": "code",
   "execution_count": 36,
   "id": "4cb85619",
   "metadata": {},
   "outputs": [
    {
     "data": {
      "text/plain": [
       "(4000,)"
      ]
     },
     "execution_count": 36,
     "metadata": {},
     "output_type": "execute_result"
    }
   ],
   "source": [
    "bag.estimators_samples_[0].shape"
   ]
  },
  {
   "cell_type": "code",
   "execution_count": 37,
   "id": "d2349c0f",
   "metadata": {},
   "outputs": [
    {
     "data": {
      "text/plain": [
       "(10,)"
      ]
     },
     "execution_count": 37,
     "metadata": {},
     "output_type": "execute_result"
    }
   ],
   "source": [
    "bag.estimators_features_[0].shape"
   ]
  },
  {
   "cell_type": "markdown",
   "id": "f780c9cc",
   "metadata": {},
   "source": [
    "# Bagging using SVC"
   ]
  },
  {
   "cell_type": "code",
   "execution_count": 40,
   "id": "d4799245",
   "metadata": {},
   "outputs": [],
   "source": [
    "bag1=BaggingClassifier(\n",
    "    base_estimator=SVC(),\n",
    "    n_estimators=500,\n",
    "    max_samples=0.25,\n",
    "    bootstrap=True,\n",
    "    random_state=42\n",
    ")"
   ]
  },
  {
   "cell_type": "code",
   "execution_count": 41,
   "id": "35824a0d",
   "metadata": {},
   "outputs": [
    {
     "data": {
      "text/plain": [
       "BaggingClassifier(base_estimator=SVC(), max_samples=0.25, n_estimators=500,\n",
       "                  random_state=42)"
      ]
     },
     "execution_count": 41,
     "metadata": {},
     "output_type": "execute_result"
    }
   ],
   "source": [
    "bag1.fit(X_train,y_train)"
   ]
  },
  {
   "cell_type": "code",
   "execution_count": 42,
   "id": "17ca7aba",
   "metadata": {},
   "outputs": [],
   "source": [
    "y_pred2=bag1.predict(X_test)"
   ]
  },
  {
   "cell_type": "code",
   "execution_count": 43,
   "id": "454f70c0",
   "metadata": {},
   "outputs": [
    {
     "name": "stdout",
     "output_type": "stream",
     "text": [
      "Bagging accurracy 0.8765\n"
     ]
    }
   ],
   "source": [
    "print(\"Bagging accurracy\",accuracy_score(y_pred2,y_test))"
   ]
  },
  {
   "cell_type": "markdown",
   "id": "a3b7c754",
   "metadata": {},
   "source": [
    "# Pasting"
   ]
  },
  {
   "cell_type": "code",
   "execution_count": 45,
   "id": "bc528259",
   "metadata": {},
   "outputs": [],
   "source": [
    "bag2=BaggingClassifier(\n",
    "    base_estimator=DecisionTreeClassifier(),\n",
    "    n_estimators=500,\n",
    "    max_samples=0.25,\n",
    "    bootstrap=False,\n",
    "    random_state=42,\n",
    "    verbose=1,\n",
    "    n_jobs=1\n",
    "    \n",
    ")"
   ]
  },
  {
   "cell_type": "code",
   "execution_count": 46,
   "id": "51a7cd09",
   "metadata": {},
   "outputs": [
    {
     "name": "stderr",
     "output_type": "stream",
     "text": [
      "[Parallel(n_jobs=1)]: Using backend SequentialBackend with 1 concurrent workers.\n",
      "[Parallel(n_jobs=1)]: Done   1 out of   1 | elapsed:    5.1s finished\n"
     ]
    },
    {
     "data": {
      "text/plain": [
       "BaggingClassifier(base_estimator=DecisionTreeClassifier(), bootstrap=False,\n",
       "                  max_samples=0.25, n_estimators=500, n_jobs=1, random_state=42,\n",
       "                  verbose=1)"
      ]
     },
     "execution_count": 46,
     "metadata": {},
     "output_type": "execute_result"
    }
   ],
   "source": [
    "bag2.fit(X_train,y_train)"
   ]
  },
  {
   "cell_type": "code",
   "execution_count": 47,
   "id": "77a5e324",
   "metadata": {},
   "outputs": [
    {
     "name": "stderr",
     "output_type": "stream",
     "text": [
      "[Parallel(n_jobs=1)]: Using backend SequentialBackend with 1 concurrent workers.\n",
      "[Parallel(n_jobs=1)]: Done   1 out of   1 | elapsed:    0.0s finished\n"
     ]
    }
   ],
   "source": [
    "y_pred3=bag2.predict(X_test)"
   ]
  },
  {
   "cell_type": "code",
   "execution_count": 48,
   "id": "e6e5e331",
   "metadata": {},
   "outputs": [
    {
     "name": "stdout",
     "output_type": "stream",
     "text": [
      "Bagging accurracy 0.8905\n"
     ]
    }
   ],
   "source": [
    "print(\"Bagging accurracy\",accuracy_score(y_pred3,y_test))"
   ]
  },
  {
   "cell_type": "markdown",
   "id": "489efba7",
   "metadata": {},
   "source": [
    "# Random Subspaces"
   ]
  },
  {
   "cell_type": "code",
   "execution_count": 50,
   "id": "fd8d36ba",
   "metadata": {},
   "outputs": [],
   "source": [
    "bag3=BaggingClassifier(\n",
    "    base_estimator=DecisionTreeClassifier(),\n",
    "    n_estimators=500,\n",
    "    max_samples=1,\n",
    "    bootstrap=False,\n",
    "    random_state=42,\n",
    "    max_features=0.5,\n",
    "    n_jobs=1\n",
    "    \n",
    ")"
   ]
  },
  {
   "cell_type": "code",
   "execution_count": 51,
   "id": "6d111df7",
   "metadata": {},
   "outputs": [
    {
     "data": {
      "text/plain": [
       "BaggingClassifier(base_estimator=DecisionTreeClassifier(), bootstrap=False,\n",
       "                  max_features=0.5, max_samples=1, n_estimators=500, n_jobs=1,\n",
       "                  random_state=42)"
      ]
     },
     "execution_count": 51,
     "metadata": {},
     "output_type": "execute_result"
    }
   ],
   "source": [
    "bag3.fit(X_train,y_train)"
   ]
  },
  {
   "cell_type": "code",
   "execution_count": 52,
   "id": "1d37e4fd",
   "metadata": {},
   "outputs": [
    {
     "name": "stderr",
     "output_type": "stream",
     "text": [
      "[Parallel(n_jobs=1)]: Using backend SequentialBackend with 1 concurrent workers.\n",
      "[Parallel(n_jobs=1)]: Done   1 out of   1 | elapsed:    0.0s finished\n"
     ]
    }
   ],
   "source": [
    "y_pred4=bag2.predict(X_test)"
   ]
  },
  {
   "cell_type": "code",
   "execution_count": 53,
   "id": "47bbc32e",
   "metadata": {},
   "outputs": [
    {
     "name": "stdout",
     "output_type": "stream",
     "text": [
      "Bagging accurracy 0.8905\n"
     ]
    }
   ],
   "source": [
    "print(\"Bagging accurracy\",accuracy_score(y_pred4,y_test))"
   ]
  },
  {
   "cell_type": "code",
   "execution_count": 55,
   "id": "82286197",
   "metadata": {},
   "outputs": [
    {
     "data": {
      "text/plain": [
       "array([6, 7, 5, 8, 3])"
      ]
     },
     "execution_count": 55,
     "metadata": {},
     "output_type": "execute_result"
    }
   ],
   "source": [
    "bag3.estimators_features_[0]"
   ]
  },
  {
   "cell_type": "markdown",
   "id": "10a4440d",
   "metadata": {},
   "source": [
    "# OOB Score"
   ]
  },
  {
   "cell_type": "code",
   "execution_count": 56,
   "id": "1bde37ac",
   "metadata": {},
   "outputs": [],
   "source": [
    "bag5=BaggingClassifier(\n",
    "    base_estimator=DecisionTreeClassifier(),\n",
    "    n_estimators=500,\n",
    "    max_samples=.25,\n",
    "    bootstrap=True,\n",
    "    random_state=42,\n",
    "    oob_score=True,\n",
    "    n_jobs=1\n",
    "    )"
   ]
  },
  {
   "cell_type": "code",
   "execution_count": 57,
   "id": "803b0096",
   "metadata": {},
   "outputs": [
    {
     "data": {
      "text/plain": [
       "BaggingClassifier(base_estimator=DecisionTreeClassifier(), max_samples=0.25,\n",
       "                  n_estimators=500, n_jobs=1, oob_score=True, random_state=42)"
      ]
     },
     "execution_count": 57,
     "metadata": {},
     "output_type": "execute_result"
    }
   ],
   "source": [
    "bag5.fit(X_train,y_train)"
   ]
  },
  {
   "cell_type": "code",
   "execution_count": 58,
   "id": "9ae24c1b",
   "metadata": {},
   "outputs": [
    {
     "data": {
      "text/plain": [
       "BaggingClassifier(base_estimator=DecisionTreeClassifier(), max_samples=0.25,\n",
       "                  n_estimators=500, n_jobs=1, oob_score=True, random_state=42)"
      ]
     },
     "execution_count": 58,
     "metadata": {},
     "output_type": "execute_result"
    }
   ],
   "source": [
    "bag5.fit(X_train,y_train)"
   ]
  },
  {
   "cell_type": "code",
   "execution_count": 59,
   "id": "13b15284",
   "metadata": {},
   "outputs": [],
   "source": [
    "y_pred5=bag5.predict(X_test)"
   ]
  },
  {
   "cell_type": "code",
   "execution_count": 60,
   "id": "d11b1727",
   "metadata": {},
   "outputs": [
    {
     "name": "stdout",
     "output_type": "stream",
     "text": [
      "Bagging accurracy 0.8895\n"
     ]
    }
   ],
   "source": [
    "print(\"Bagging accurracy\",accuracy_score(y_pred5,y_test))"
   ]
  },
  {
   "cell_type": "code",
   "execution_count": 61,
   "id": "ba96ca0a",
   "metadata": {},
   "outputs": [
    {
     "data": {
      "text/plain": [
       "0.896875"
      ]
     },
     "execution_count": 61,
     "metadata": {},
     "output_type": "execute_result"
    }
   ],
   "source": [
    "bag5.oob_score_"
   ]
  },
  {
   "cell_type": "markdown",
   "id": "d029530d",
   "metadata": {},
   "source": [
    "# Bagging "
   ]
  },
  {
   "cell_type": "markdown",
   "id": "dad23335",
   "metadata": {},
   "source": [
    "Bagging generally gives better result than Pasting\n",
    "Good result comes around 25% to 50% row sampling\n",
    "Random patches  and subspaces should be used while dealing with high dimensional data\n",
    "To find the correct hyperparameter values we can do Grid Search CV"
   ]
  },
  {
   "cell_type": "code",
   "execution_count": 62,
   "id": "8d661a41",
   "metadata": {},
   "outputs": [],
   "source": [
    "from sklearn.model_selection import GridSearchCV"
   ]
  },
  {
   "cell_type": "code",
   "execution_count": 63,
   "id": "01f94adc",
   "metadata": {},
   "outputs": [],
   "source": [
    "parameters = {\n",
    "    'n_estimators': [50,100,500], \n",
    "    'max_samples': [0.1,0.4,0.7,1.0],\n",
    "    'bootstrap' : [True,False],\n",
    "    'max_features' : [0.1,0.4,0.7,1.0]\n",
    "    }"
   ]
  },
  {
   "cell_type": "code",
   "execution_count": 67,
   "id": "f50ca8fe",
   "metadata": {},
   "outputs": [],
   "source": [
    "search=GridSearchCV(BaggingClassifier(),parameters,cv=5)"
   ]
  },
  {
   "cell_type": "code",
   "execution_count": 68,
   "id": "3e4a0f8d",
   "metadata": {},
   "outputs": [
    {
     "data": {
      "text/plain": [
       "GridSearchCV(cv=5, estimator=BaggingClassifier(),\n",
       "             param_grid={'bootstrap': [True, False],\n",
       "                         'max_features': [0.1, 0.4, 0.7, 1.0],\n",
       "                         'max_samples': [0.1, 0.4, 0.7, 1.0],\n",
       "                         'n_estimators': [50, 100, 500]})"
      ]
     },
     "execution_count": 68,
     "metadata": {},
     "output_type": "execute_result"
    }
   ],
   "source": [
    "search.fit(X_train,y_train)"
   ]
  },
  {
   "cell_type": "code",
   "execution_count": null,
   "id": "1820af4e",
   "metadata": {},
   "outputs": [],
   "source": []
  }
 ],
 "metadata": {
  "kernelspec": {
   "display_name": "Python 3 (ipykernel)",
   "language": "python",
   "name": "python3"
  },
  "language_info": {
   "codemirror_mode": {
    "name": "ipython",
    "version": 3
   },
   "file_extension": ".py",
   "mimetype": "text/x-python",
   "name": "python",
   "nbconvert_exporter": "python",
   "pygments_lexer": "ipython3",
   "version": "3.9.13"
  }
 },
 "nbformat": 4,
 "nbformat_minor": 5
}
